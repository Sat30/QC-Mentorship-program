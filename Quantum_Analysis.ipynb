{
 "cells": [
  {
   "cell_type": "markdown",
   "metadata": {},
   "source": [
    "### Analysis"
   ]
  },
  {
   "cell_type": "code",
   "execution_count": null,
   "metadata": {},
   "outputs": [],
   "source": [
    "import time\n",
    "\n",
    "import numpy as np\n",
    "from sub_task_1 import My_Quantum_circuit1 \n",
    "from sub_task_2 import My_Quantum_circuit2\n",
    "\n",
    "QUBIT_SIZES = []\n",
    "RUNTIMES = []\n",
    "MAX_QUBITS = []\n",
    "ERRORS = []\n",
    "\n",
    "CURRI = 0\n",
    "My_Quantum_circuit = [My_Quantum_circuit1, My_Quantum_circuit2]\n",
    "\n",
    "class QuantumCircuitAnalysis:\n",
    "    def __init__(self, trials=3, max_runtime=600):\n",
    "        self.trials = trials\n",
    "        self.max_runtime = max_runtime  \n",
    "\n",
    "    def measure_runtime(self, num_qubits):\n",
    "        runtimes = []\n",
    "        for _ in range(self.trials):\n",
    "            start_time = time.time()    \n",
    "            ## Circuit Start\n",
    "            circuit = My_Quantum_circuit[CURRI](num_qubits)\n",
    "            circuit.x(0)\n",
    "            circuit.h(0)\n",
    "            if num_qubits > 1:\n",
    "                circuit.cx(0, 1)\n",
    "            ## Circuit End\n",
    "            end_time = time.time()\n",
    "            runtimes.append(end_time - start_time)\n",
    "        \n",
    "        return np.mean(runtimes)\n",
    "\n",
    "    def run_analysis(self):\n",
    "        qubit_sizes = []\n",
    "        runtimes = []\n",
    "        num_qubits = 1\n",
    "        try:\n",
    "            while True:\n",
    "                avg_runtime = self.measure_runtime(num_qubits)\n",
    "                if avg_runtime > self.max_runtime:\n",
    "                    print(f\"Reached maximum runtime threshold at {num_qubits} qubits.\")\n",
    "                    break\n",
    "                qubit_sizes.append(num_qubits)\n",
    "                runtimes.append(avg_runtime)\n",
    "                print(f\"{num_qubits} qubits: Average runtime = {avg_runtime:.15f} seconds\")\n",
    "                num_qubits += 1\n",
    "        except Exception as e:\n",
    "            QUBIT_SIZES.append(qubit_sizes)\n",
    "            RUNTIMES.append(runtimes)\n",
    "            MAX_QUBITS.append(num_qubits)\n",
    "            ERRORS.append(f\"Error: {e}\")\n",
    "            plt.plot(qubit_sizes, runtimes, marker='o')\n",
    "            plt.title(\"Quantum Circuit Runtime Analysis\")\n",
    "            plt.xlabel(\"Number of Qubits\")\n",
    "            plt.ylabel(\"Average Runtime (s)\")\n",
    "            # plt.yscale(\"log\")  # Optional: Use a log scale if growth is exponential\n",
    "            plt.show()\n",
    "            return num_qubits\n",
    "\n",
    "# Example usage\n",
    "for i in range(2):\n",
    "    print(My_Quantum_circuit[CURRI].__name__)\n",
    "    analysis = QuantumCircuitAnalysis(trials=5, )\n",
    "    num_qubits = analysis.run_analysis()\n",
    "    CURRI += 1\n",
    "\n",
    "\n"
   ]
  },
  {
   "cell_type": "code",
   "execution_count": 8,
   "metadata": {},
   "outputs": [],
   "source": [
    "import json\n",
    "\n",
    "dict_t = {}\n",
    "dict_t['QUBIT_SIZES'] = QUBIT_SIZES\n",
    "dict_t['RUNTIMES'] = RUNTIMES\n",
    "dict_t['MAX_QUBITS'] = MAX_QUBITS\n",
    "dict_t['ERRORS'] = ERRORS\n",
    "with open('RESULT.json', 'w') as f:\n",
    "    json.dump(dict_t, f, indent=4)\n"
   ]
  }
 ],
 "metadata": {
  "kernelspec": {
   "display_name": "quantum_computing",
   "language": "python",
   "name": "python3"
  },
  "language_info": {
   "codemirror_mode": {
    "name": "ipython",
    "version": 3
   },
   "file_extension": ".py",
   "mimetype": "text/x-python",
   "name": "python",
   "nbconvert_exporter": "python",
   "pygments_lexer": "ipython3",
   "version": "3.11.8"
  }
 },
 "nbformat": 4,
 "nbformat_minor": 2
}
